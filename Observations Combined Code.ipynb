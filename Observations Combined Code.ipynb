{
 "cells": [
  {
   "cell_type": "code",
   "execution_count": 2,
   "id": "419e9ba5-71ad-4945-98db-fe56cc3fbe97",
   "metadata": {},
   "outputs": [],
   "source": [
    "import sys; sys.path.append('/data/met/processing/10_methods/')\n",
    "from regridding import *\n",
    "import geopandas as gpd"
   ]
  },
  {
   "cell_type": "code",
   "execution_count": 21,
   "id": "cb8dc62b-e79b-4c06-9e1b-0cde2683c137",
   "metadata": {},
   "outputs": [],
   "source": [
    "#~~~~~~~~~~~~~~~~~~~~~~~~~~~~~~~~~~~~~~~~~~~~~~~~~~~~~~~~~~~~~~~~~~~~~~~~~~~~~~~~~~~~~~~~~~~~~~\n",
    "\n",
    "# define coordinate reference systems\n",
    "osgb_crs = ccrs.TransverseMercator(approx = False, central_longitude = -2, central_latitude = 49, scale_factor = 0.9996012717, false_easting = 400000, false_northing = -100000,\n",
    "                                   globe = ccrs.Globe(datum = 'OSGB36', ellipse = 'airy'))\n",
    "latlon_crs = ccrs.RotatedPole(central_rotated_longitude = 180)"
   ]
  },
  {
   "cell_type": "code",
   "execution_count": 22,
   "id": "b68661b5-4cbf-461e-82a7-3b82c30a9a6f",
   "metadata": {},
   "outputs": [],
   "source": [
    "#~~~~~~~~~~~~~~~~~~~~~~~~~~~~~~~~~~~~~~~~~~~~~~~~~~~~~~~~~~~~~~~~~~~~~~~~~~~~~~~~~~~~~~~~~~~~~~\n",
    "# method to get the nearest value to (x,y) from the gridded data in da (assumes everything in OSGB projection)\n",
    "def nearest_px(x,y,da):\n",
    "   \n",
    "    # get squared distance from (x,y) to each point\n",
    "    dist2 = (da.projection_y_coordinate - y)**2 + (da.projection_x_coordinate - x)**2\n",
    "   \n",
    "    # exclude any cells where the gridded data is NaN\n",
    "    dist2 = dist2.where(~np.isnan(da))\n",
    "   \n",
    "    # also limit distance to closest two squares (in case there really is no data nearby)\n",
    "    dist2 = dist2.where(dist2 <= 5.76e8)\n",
    "   \n",
    "    # find value in cell containing minimum distance\n",
    "    # if multiple equidistant cells, will average over them\n",
    "    val = da.where(dist2 == dist2.min()).mean([\"projection_x_coordinate\", \"projection_y_coordinate\"])\n",
    "   \n",
    "    return val"
   ]
  },
  {
   "cell_type": "code",
   "execution_count": 23,
   "id": "43a01b3c-c31c-4464-b70f-fa2f0fc473dd",
   "metadata": {},
   "outputs": [],
   "source": [
    "#~~~~~~~~~~~~~~~~~~~~~~~~~~~~~~~~~~~~~~~~~~~~~~~~~~~~~~~~~~~~~~~~~~~~~~~~~~~~~~~~~~~~~~~~~~~~~~\n",
    "# load the shapefile\n",
    "sf = geopandas.read_file(\"/home/georgia/Data/GB/westminster\")\n",
    "\n",
    "#load daily max temps and gets annual max, then obtains time slices \n",
    "\n",
    "tasmax = xr.open_dataset(\"/data/met/hadUK-grid/dmo/tasmax_hadukgrid_uk_12km_day_19600101-20211231.nc\")\n",
    "\n",
    "maxtmax = tasmax.resample(time = \"AS-DEC\").max()\n",
    "\n",
    "hist = maxtmax.sel(time = slice(\"19601201\", \"19901130\")).mean(\"time\")\n",
    "ref = maxtmax.sel(time = slice(\"19901201\", \"20211231\")).mean(\"time\")\n",
    "\n",
    "\n",
    "ds=ref-hist \n",
    "ds = add_grid(ds, \"projection_x_coordinate\", \"projection_y_coordinate\", osgb_crs, latlon_crs)\n",
    "rm = regionmask.mask_3D_geopandas(sf.to_crs(latlon_crs.proj4_init), ds.lon, ds.lat, drop = False, numbers = \"NUMBER\")\n",
    "da=ds.tasmax\n",
    "\n",
    "# apply the regionmask to the data and average over the x & y dimensions\n",
    "region_da = da.where(rm).mean([\"projection_x_coordinate\", \"projection_y_coordinate\"])"
   ]
  },
  {
   "cell_type": "code",
   "execution_count": 24,
   "id": "e0cb455d-67ee-4389-9e84-4054cfa2e3c7",
   "metadata": {},
   "outputs": [],
   "source": [
    "#~~~~~~~~~~~~~~~~~~~~~~~~~~~~~~~~~~\n",
    "# find nearest neighbour\n",
    "\n",
    "region_nn = xr.concat([nearest_px(*sf.centroid[i].xy, da).expand_dims(region = [sf.NUMBER[i]]).assign_coords(constituency = (\"region\", [sf.FILE_NAME[i]])) for i in range(len(sf))], \"region\")"
   ]
  },
  {
   "cell_type": "code",
   "execution_count": null,
   "id": "590959ca-41c8-4202-8dad-2e5bb522ad9b",
   "metadata": {},
   "outputs": [],
   "source": []
  },
  {
   "cell_type": "code",
   "execution_count": 25,
   "id": "3c71d78e-172d-4961-8085-8ceab9f4a969",
   "metadata": {},
   "outputs": [],
   "source": [
    "#~~~~~~~~~~~~~~~~~~~~~~~~~~~~~~~~~~\n",
    "# combine regionmask with nearest neighbour where regionmask didn't pick anything up\n",
    "\n",
    "region_all = xr.concat([region_da, region_nn.where(np.isnan(region_da))], \"match\").sum(\"match\")"
   ]
  },
  {
   "cell_type": "code",
   "execution_count": 26,
   "id": "3700bc0e-5a62-4ee4-8c92-d3f055acb260",
   "metadata": {},
   "outputs": [],
   "source": [
    "region_all=region_all.assign_coords(region=('region',sf.CODE))"
   ]
  },
  {
   "cell_type": "code",
   "execution_count": 27,
   "id": "33399fec-2630-473c-aef5-186ef50655ee",
   "metadata": {},
   "outputs": [],
   "source": [
    "region_all.to_dataframe(name='value').reset_index().to_csv('observations_maxtmax_1975-2005.csv')"
   ]
  },
  {
   "cell_type": "code",
   "execution_count": null,
   "id": "0219ec2d-b9da-4b37-8095-a607111ae04c",
   "metadata": {},
   "outputs": [],
   "source": []
  },
  {
   "cell_type": "code",
   "execution_count": null,
   "id": "30ab965b-6a32-43fb-b168-5567be6de550",
   "metadata": {},
   "outputs": [],
   "source": []
  },
  {
   "cell_type": "code",
   "execution_count": null,
   "id": "255a2bd4-fce2-4d30-9198-caf4e7eba2aa",
   "metadata": {},
   "outputs": [],
   "source": []
  },
  {
   "cell_type": "code",
   "execution_count": null,
   "id": "5a57d596-e5fe-41c5-94ad-63931c571663",
   "metadata": {},
   "outputs": [],
   "source": [
    "#new variable- tmas observations import sys; sys.path.append('/data/met/processing/10_methods/')\n",
    "from regridding import *\n",
    "import geopandas as gpd"
   ]
  },
  {
   "cell_type": "code",
   "execution_count": 28,
   "id": "ba13b322-8b80-4b12-977a-ce42523c306f",
   "metadata": {},
   "outputs": [],
   "source": [
    "#~~~~~~~~~~~~~~~~~~~~~~~~~~~~~~~~~~~~~~~~~~~~~~~~~~~~~~~~~~~~~~~~~~~~~~~~~~~~~~~~~~~~~~~~~~~~~~\n",
    "\n",
    "# define coordinate reference systems\n",
    "osgb_crs = ccrs.TransverseMercator(approx = False, central_longitude = -2, central_latitude = 49, scale_factor = 0.9996012717, false_easting = 400000, false_northing = -100000,\n",
    "                                   globe = ccrs.Globe(datum = 'OSGB36', ellipse = 'airy'))\n",
    "latlon_crs = ccrs.RotatedPole(central_rotated_longitude = 180)"
   ]
  },
  {
   "cell_type": "code",
   "execution_count": 29,
   "id": "310a736b-fc55-4faf-b5c1-3ca365098ffb",
   "metadata": {},
   "outputs": [],
   "source": [
    "#~~~~~~~~~~~~~~~~~~~~~~~~~~~~~~~~~~~~~~~~~~~~~~~~~~~~~~~~~~~~~~~~~~~~~~~~~~~~~~~~~~~~~~~~~~~~~~\n",
    "# method to get the nearest value to (x,y) from the gridded data in da (assumes everything in OSGB projection)\n",
    "def nearest_px(x,y,da):\n",
    "   \n",
    "    # get squared distance from (x,y) to each point\n",
    "    dist2 = (da.projection_y_coordinate - y)**2 + (da.projection_x_coordinate - x)**2\n",
    "   \n",
    "    # exclude any cells where the gridded data is NaN\n",
    "    dist2 = dist2.where(~np.isnan(da))\n",
    "   \n",
    "    # also limit distance to closest two squares (in case there really is no data nearby)\n",
    "    dist2 = dist2.where(dist2 <= 5.76e8)\n",
    "   \n",
    "    # find value in cell containing minimum distance\n",
    "    # if multiple equidistant cells, will average over them\n",
    "    val = da.where(dist2 == dist2.min()).mean([\"projection_x_coordinate\", \"projection_y_coordinate\"])\n",
    "   \n",
    "    return val"
   ]
  },
  {
   "cell_type": "code",
   "execution_count": 35,
   "id": "985210cd-1b2e-4e24-9228-efdae465c489",
   "metadata": {},
   "outputs": [],
   "source": [
    "#~~~~~~~~~~~~~~~~~~~~~~~~~~~~~~~~~~~~~~~~~~~~~~~~~~~~~~~~~~~~~~~~~~~~~~~~~~~~~~~~~~~~~~~~~~~~~~\n",
    "# load the shapefile\n",
    "sf = geopandas.read_file(\"/home/georgia/Data/GB/westminster\")\n",
    "\n",
    "#load daily max temps and gets annual max, then obtains time slices \n",
    "\n",
    "tas = xr.open_dataset(\"/data/met/hadUK-grid/dmo/tas_hadukgrid_uk_12km_mon_188401-202112.nc\")\n",
    "\n",
    "ann_tas_mean = tas.resample(time = \"1AS-DEC\",).mean()\n",
    "\n",
    "\n",
    "hist = ann_tas_mean.sel(time = slice(\"18851201\", \"19151201\")).mean(\"time\")\n",
    "ref = ann_tas_mean.sel(time = slice(\"19901201\", \"20211201\")).mean(\"time\")\n",
    "\n",
    "\n",
    "ds=ref-hist \n",
    "ds = add_grid(ds, \"projection_x_coordinate\", \"projection_y_coordinate\", osgb_crs, latlon_crs)\n",
    "rm = regionmask.mask_3D_geopandas(sf.to_crs(latlon_crs.proj4_init), ds.lon, ds.lat, drop = False, numbers = \"NUMBER\")\n",
    "da=ds.tas\n",
    "\n",
    "# apply the regionmask to the data and average over the x & y dimensions\n",
    "region_da = da.where(rm).mean([\"projection_x_coordinate\", \"projection_y_coordinate\"])"
   ]
  },
  {
   "cell_type": "code",
   "execution_count": 36,
   "id": "9768bd0e-4e05-465c-8f3a-a6d42279d84b",
   "metadata": {},
   "outputs": [],
   "source": [
    "#~~~~~~~~~~~~~~~~~~~~~~~~~~~~~~~~~~\n",
    "# find nearest neighbour\n",
    "\n",
    "region_nn = xr.concat([nearest_px(*sf.centroid[i].xy, da).expand_dims(region = [sf.NUMBER[i]]).assign_coords(constituency = (\"region\", [sf.FILE_NAME[i]])) for i in range(len(sf))], \"region\")"
   ]
  },
  {
   "cell_type": "code",
   "execution_count": 37,
   "id": "3217a742-a3c5-4852-be32-bd2f019ee1e4",
   "metadata": {},
   "outputs": [],
   "source": [
    "#~~~~~~~~~~~~~~~~~~~~~~~~~~~~~~~~~~\n",
    "# combine regionmask with nearest neighbour where regionmask didn't pick anything up\n",
    "\n",
    "region_all = xr.concat([region_da, region_nn.where(np.isnan(region_da))], \"match\").sum(\"match\")"
   ]
  },
  {
   "cell_type": "code",
   "execution_count": 38,
   "id": "6d09a13c-230d-4493-bef3-18989ca555a9",
   "metadata": {},
   "outputs": [],
   "source": [
    "region_all=region_all.assign_coords(region=('region',sf.CODE))"
   ]
  },
  {
   "cell_type": "code",
   "execution_count": 39,
   "id": "00e00eb4-a7d8-4cb5-ace1-fc81417c2566",
   "metadata": {},
   "outputs": [],
   "source": [
    "region_all.to_dataframe(name='value').reset_index().to_csv('observations_tas_1900-2005.csv')"
   ]
  },
  {
   "cell_type": "code",
   "execution_count": null,
   "id": "d08b257c-e15b-4c99-bdaa-78235f0231a2",
   "metadata": {},
   "outputs": [],
   "source": []
  },
  {
   "cell_type": "code",
   "execution_count": null,
   "id": "b03546a5-928d-4aab-a825-4dd5a2502056",
   "metadata": {},
   "outputs": [],
   "source": []
  },
  {
   "cell_type": "code",
   "execution_count": null,
   "id": "69219272-29f3-4582-88fd-6469216618f7",
   "metadata": {},
   "outputs": [],
   "source": []
  },
  {
   "cell_type": "code",
   "execution_count": null,
   "id": "d613d873-80ea-4a5b-82b2-a651c3b2489e",
   "metadata": {},
   "outputs": [],
   "source": []
  },
  {
   "cell_type": "code",
   "execution_count": null,
   "id": "e974ce99-693d-4b51-ab70-1a9736448b51",
   "metadata": {},
   "outputs": [],
   "source": [
    "#new variable--- drought duration "
   ]
  },
  {
   "cell_type": "code",
   "execution_count": 24,
   "id": "70473727-d852-4ccf-9e1c-530c0b8fcc63",
   "metadata": {},
   "outputs": [],
   "source": [
    "# define coordinate reference systems\n",
    "osgb_crs = ccrs.TransverseMercator(approx = False, central_longitude = -2, central_latitude = 49, scale_factor = 0.9996012717, false_easting = 400000, false_northing = -100000,\n",
    "                                   globe = ccrs.Globe(datum = 'OSGB36', ellipse = 'airy'))\n",
    "latlon_crs = ccrs.RotatedPole(central_rotated_longitude = 180)"
   ]
  },
  {
   "cell_type": "code",
   "execution_count": 25,
   "id": "804d9265-1a09-4bed-a5ca-c28831eb5044",
   "metadata": {},
   "outputs": [],
   "source": [
    "#~~~~~~~~~~~~~~~~~~~~~~~~~~~~~~~~~~~~~~~~~~~~~~~~~~~~~~~~~~~~~~~~~~~~~~~~~~~~~~~~~~~~~~~~~~~~~~\n",
    "# method to get the nearest value to (x,y) from the gridded data in da (assumes everything in OSGB projection)\n",
    "def nearest_px(x,y,da):\n",
    "   \n",
    "    # get squared distance from (x,y) to each point\n",
    "    dist2 = (da.projection_y_coordinate - y)**2 + (da.projection_x_coordinate - x)**2\n",
    "   \n",
    "    # exclude any cells where the gridded data is NaN\n",
    "    dist2 = dist2.where(~np.isnan(da))\n",
    "   \n",
    "    # also limit distance to closest two squares (in case there really is no data nearby)\n",
    "    dist2 = dist2.where(dist2 <= 5.76e8)\n",
    "   \n",
    "    # find value in cell containing minimum distance\n",
    "    # if multiple equidistant cells, will average over them\n",
    "    val = da.where(dist2 == dist2.min()).mean([\"projection_x_coordinate\", \"projection_y_coordinate\"])\n",
    "   \n",
    "    return val"
   ]
  },
  {
   "cell_type": "code",
   "execution_count": 30,
   "id": "02007485-bdcd-470b-aef3-5e9323e7edd1",
   "metadata": {},
   "outputs": [],
   "source": [
    "#~~~~~~~~~~~~~~~~~~~~~~~~~~~~~~~~~~~~~~~~~~~~~~~~~~~~~~~~~~~~~~~~~~~~~~~~~~~~~~~~~~~~~~~~~~~~~~\n",
    "# load the shapefile\n",
    "sf = geopandas.read_file(\"/home/georgia/Data/GB/westminster\")\n",
    "\n",
    "#load daily max temps and gets annual max, then obtains time slices \n",
    "\n",
    "spei6dd = xr.open_dataset(\"/data/met/hadUK-grid/ind/spei6dd_12km_hadukgrid_mon.nc\")\n",
    "\n",
    "ann_spei6dd_total = spei6dd.resample(time = \"1AS-DEC\",).sum()\n",
    "\n",
    "\n",
    "hist = ann_spei6dd_total.sel(time = slice(\"18851201\", \"19151201\")).mean(\"time\")\n",
    "ref = ann_spei6dd_total.sel(time = slice(\"19901201\", \"20211201\")).mean(\"time\")\n",
    "\n",
    "\n",
    "ds=ref-hist \n",
    "ds = add_grid(ds, \"projection_x_coordinate\", \"projection_y_coordinate\", osgb_crs, latlon_crs)\n",
    "rm = regionmask.mask_3D_geopandas(sf.to_crs(latlon_crs.proj4_init), ds.lon, ds.lat, drop = False, numbers = \"NUMBER\")\n",
    "da=ds.spei6dd\n",
    "\n",
    "# apply the regionmask to the data and average over the x & y dimensions\n",
    "region_da = da.where(rm).mean([\"projection_x_coordinate\", \"projection_y_coordinate\"])"
   ]
  },
  {
   "cell_type": "code",
   "execution_count": 31,
   "id": "f5d0f7bf-fb71-4fd4-a28d-4898f604a653",
   "metadata": {},
   "outputs": [],
   "source": [
    "#~~~~~~~~~~~~~~~~~~~~~~~~~~~~~~~~~~\n",
    "# find nearest neighbour\n",
    "\n",
    "region_nn = xr.concat([nearest_px(*sf.centroid[i].xy, da).expand_dims(region = [sf.NUMBER[i]]).assign_coords(constituency = (\"region\", [sf.FILE_NAME[i]])) for i in range(len(sf))], \"region\")"
   ]
  },
  {
   "cell_type": "code",
   "execution_count": 32,
   "id": "8ea0fe69-8b8e-408f-a51a-bded82288279",
   "metadata": {},
   "outputs": [],
   "source": [
    "#~~~~~~~~~~~~~~~~~~~~~~~~~~~~~~~~~~\n",
    "# combine regionmask with nearest neighbour where regionmask didn't pick anything up\n",
    "\n",
    "region_all = xr.concat([region_da, region_nn.where(np.isnan(region_da))], \"match\").sum(\"match\")"
   ]
  },
  {
   "cell_type": "code",
   "execution_count": 33,
   "id": "f385ec97-3ca6-4520-8df7-6b70d19c7b0e",
   "metadata": {},
   "outputs": [],
   "source": [
    "region_all=region_all.assign_coords(region=('region',sf.CODE))"
   ]
  },
  {
   "cell_type": "code",
   "execution_count": 34,
   "id": "c1eaf65d-cba9-44cd-9f1a-536c8f81c265",
   "metadata": {},
   "outputs": [],
   "source": [
    "region_all.to_dataframe(name='value').reset_index().to_csv('observations_drought duration total change_1900-2005.csv')"
   ]
  },
  {
   "cell_type": "code",
   "execution_count": null,
   "id": "8c5307c3-d9ba-4999-8a23-ee25015a606a",
   "metadata": {},
   "outputs": [],
   "source": []
  },
  {
   "cell_type": "code",
   "execution_count": null,
   "id": "36199c5c-9a44-4c4e-a939-7a495270fddd",
   "metadata": {},
   "outputs": [],
   "source": []
  },
  {
   "cell_type": "code",
   "execution_count": null,
   "id": "360f70b4-e07c-4675-9b9d-5c7f7548f2e3",
   "metadata": {},
   "outputs": [],
   "source": []
  },
  {
   "cell_type": "code",
   "execution_count": 3,
   "id": "5639b90c-e6b4-49bd-97b3-17258e47d851",
   "metadata": {},
   "outputs": [],
   "source": [
    "#new variable rainfall --\n",
    "\n",
    "# define coordinate reference systems\n",
    "osgb_crs = ccrs.TransverseMercator(approx = False, central_longitude = -2, central_latitude = 49, scale_factor = 0.9996012717, false_easting = 400000, false_northing = -100000,\n",
    "                                   globe = ccrs.Globe(datum = 'OSGB36', ellipse = 'airy'))\n",
    "latlon_crs = ccrs.RotatedPole(central_rotated_longitude = 180)"
   ]
  },
  {
   "cell_type": "code",
   "execution_count": 4,
   "id": "cb4c8db5-217e-4d46-8335-529206549a13",
   "metadata": {},
   "outputs": [],
   "source": [
    "#~~~~~~~~~~~~~~~~~~~~~~~~~~~~~~~~~~~~~~~~~~~~~~~~~~~~~~~~~~~~~~~~~~~~~~~~~~~~~~~~~~~~~~~~~~~~~~\n",
    "# method to get the nearest value to (x,y) from the gridded data in da (assumes everything in OSGB projection)\n",
    "def nearest_px(x,y,da):\n",
    "   \n",
    "    # get squared distance from (x,y) to each point\n",
    "    dist2 = (da.projection_y_coordinate - y)**2 + (da.projection_x_coordinate - x)**2\n",
    "   \n",
    "    # exclude any cells where the gridded data is NaN\n",
    "    dist2 = dist2.where(~np.isnan(da))\n",
    "   \n",
    "    # also limit distance to closest two squares (in case there really is no data nearby)\n",
    "    dist2 = dist2.where(dist2 <= 5.76e8)\n",
    "   \n",
    "    # find value in cell containing minimum distance\n",
    "    # if multiple equidistant cells, will average over them\n",
    "    val = da.where(dist2 == dist2.min()).mean([\"projection_x_coordinate\", \"projection_y_coordinate\"])\n",
    "   \n",
    "    return val"
   ]
  },
  {
   "cell_type": "code",
   "execution_count": 5,
   "id": "2cdcd06a-d25d-488a-9b3a-70238c9f7b0c",
   "metadata": {},
   "outputs": [],
   "source": [
    "#~~~~~~~~~~~~~~~~~~~~~~~~~~~~~~~~~~~~~~~~~~~~~~~~~~~~~~~~~~~~~~~~~~~~~~~~~~~~~~~~~~~~~~~~~~~~~~\n",
    "# load the shapefile\n",
    "sf = geopandas.read_file(\"/home/georgia/Data/GB/westminster\")\n",
    "\n",
    "#load daily max temps and gets annual max, then obtains time slices \n",
    "\n",
    "rainfall = xr.open_dataset(\"/data/met/hadUK-grid/dmo/rainfall_hadukgrid_uk_12km_day_18910101-20211231.nc\")\n",
    "\n",
    "ann_pr_mean = rainfall.resample(time = \"1AS-DEC\",).mean()\n",
    "\n",
    "\n",
    "hist = ann_pr_mean.sel(time = slice(\"18851201\", \"19151201\")).mean(\"time\")\n",
    "ref = ann_pr_mean.sel(time = slice(\"19901201\", \"20211201\")).mean(\"time\")\n",
    "\n",
    "\n",
    "ds=ref-hist \n",
    "ds = add_grid(ds, \"projection_x_coordinate\", \"projection_y_coordinate\", osgb_crs, latlon_crs)\n",
    "rm = regionmask.mask_3D_geopandas(sf.to_crs(latlon_crs.proj4_init), ds.lon, ds.lat, drop = False, numbers = \"NUMBER\")\n",
    "da=ds.rainfall\n",
    "\n",
    "# apply the regionmask to the data and average over the x & y dimensions\n",
    "region_da = da.where(rm).mean([\"projection_x_coordinate\", \"projection_y_coordinate\"])"
   ]
  },
  {
   "cell_type": "code",
   "execution_count": 6,
   "id": "6755e20f-ef0e-4327-be13-c44b589e629d",
   "metadata": {},
   "outputs": [],
   "source": [
    "#~~~~~~~~~~~~~~~~~~~~~~~~~~~~~~~~~~\n",
    "# find nearest neighbour\n",
    "\n",
    "region_nn = xr.concat([nearest_px(*sf.centroid[i].xy, da).expand_dims(region = [sf.NUMBER[i]]).assign_coords(constituency = (\"region\", [sf.FILE_NAME[i]])) for i in range(len(sf))], \"region\")"
   ]
  },
  {
   "cell_type": "code",
   "execution_count": 7,
   "id": "f84fa1b2-c519-4654-bf82-05fe7c462f03",
   "metadata": {},
   "outputs": [],
   "source": [
    "#~~~~~~~~~~~~~~~~~~~~~~~~~~~~~~~~~~\n",
    "# combine regionmask with nearest neighbour where regionmask didn't pick anything up\n",
    "\n",
    "region_all = xr.concat([region_da, region_nn.where(np.isnan(region_da))], \"match\").sum(\"match\")"
   ]
  },
  {
   "cell_type": "code",
   "execution_count": 8,
   "id": "00d939e8-ff85-4f6f-ba36-98ad7715b3a8",
   "metadata": {},
   "outputs": [],
   "source": [
    "region_all=region_all.assign_coords(region=('region',sf.CODE))"
   ]
  },
  {
   "cell_type": "code",
   "execution_count": 9,
   "id": "eb9bac9c-0a73-4d19-aa44-42731c8581ef",
   "metadata": {},
   "outputs": [],
   "source": [
    "region_all.to_dataframe(name='value').reset_index().to_csv('observations_rainfall_daily_1900-2005.csv')"
   ]
  },
  {
   "cell_type": "code",
   "execution_count": null,
   "id": "76876a43-d982-442c-815c-706ca0011724",
   "metadata": {},
   "outputs": [],
   "source": []
  },
  {
   "cell_type": "code",
   "execution_count": null,
   "id": "b6ea1f40-11ed-487d-84de-afe01beccba9",
   "metadata": {},
   "outputs": [],
   "source": []
  },
  {
   "cell_type": "code",
   "execution_count": null,
   "id": "528f37e7-c217-42dd-b71e-68220d0c1ade",
   "metadata": {},
   "outputs": [],
   "source": []
  },
  {
   "cell_type": "code",
   "execution_count": null,
   "id": "454783a7-4cd8-4cc5-9786-d842716d5591",
   "metadata": {},
   "outputs": [],
   "source": []
  },
  {
   "cell_type": "code",
   "execution_count": null,
   "id": "4c601788-7308-44dd-9ce1-bceb3c5f3a0e",
   "metadata": {},
   "outputs": [],
   "source": []
  },
  {
   "cell_type": "code",
   "execution_count": null,
   "id": "435b0a30-31af-45bd-9ae2-84a540590add",
   "metadata": {},
   "outputs": [],
   "source": [
    "#new variable---- prmax5\n",
    "#~~~~~~~~~~~~~~~~~~~~~~~~~~~~~~~~~~~~~~~~~~~~~~~~~~~~~~~~~~~~~~~~~~~~~~~~~~~~~~~~~~~~~~~~~~~~~~\n",
    "\n",
    "# define coordinate reference systems\n",
    "osgb_crs = ccrs.TransverseMercator(approx = False, central_longitude = -2, central_latitude = 49, scale_factor = 0.9996012717, false_easting = 400000, false_northing = -100000,\n",
    "                                   globe = ccrs.Globe(datum = 'OSGB36', ellipse = 'airy'))\n",
    "latlon_crs = ccrs.RotatedPole(central_rotated_longitude = 180)"
   ]
  },
  {
   "cell_type": "code",
   "execution_count": null,
   "id": "003233b4-c938-4740-994d-da42a07c6a1f",
   "metadata": {},
   "outputs": [],
   "source": [
    "#~~~~~~~~~~~~~~~~~~~~~~~~~~~~~~~~~~~~~~~~~~~~~~~~~~~~~~~~~~~~~~~~~~~~~~~~~~~~~~~~~~~~~~~~~~~~~~\n",
    "# method to get the nearest value to (x,y) from the gridded data in da (assumes everything in OSGB projection)\n",
    "def nearest_px(x,y,da):\n",
    "   \n",
    "    # get squared distance from (x,y) to each point\n",
    "    dist2 = (da.projection_y_coordinate - y)**2 + (da.projection_x_coordinate - x)**2\n",
    "   \n",
    "    # exclude any cells where the gridded data is NaN\n",
    "    dist2 = dist2.where(~np.isnan(da))\n",
    "   \n",
    "    # also limit distance to closest two squares (in case there really is no data nearby)\n",
    "    dist2 = dist2.where(dist2 <= 5.76e8)\n",
    "   \n",
    "    # find value in cell containing minimum distance\n",
    "    # if multiple equidistant cells, will average over them\n",
    "    val = da.where(dist2 == dist2.min()).mean([\"projection_x_coordinate\", \"projection_y_coordinate\"])\n",
    "   \n",
    "    return val"
   ]
  },
  {
   "cell_type": "code",
   "execution_count": null,
   "id": "dbf8840d-f6d7-4fdb-b25d-85e2937cf374",
   "metadata": {},
   "outputs": [],
   "source": [
    "#~~~~~~~~~~~~~~~~~~~~~~~~~~~~~~~~~~~~~~~~~~~~~~~~~~~~~~~~~~~~~~~~~~~~~~~~~~~~~~~~~~~~~~~~~~~~~~\n",
    "# load the shapefile\n",
    "sf = geopandas.read_file(\"/home/georgia/Data/GB/westminster\")\n",
    "\n",
    "#load daily max temps and gets annual max, then obtains time slices \n",
    "\n",
    "pr = xr.open_dataset(\"/data/met/hadUK-grid/dmo/rainfall_hadukgrid_uk_12km_day_18910101-20211231.nc\")\n",
    "pr"
   ]
  },
  {
   "cell_type": "code",
   "execution_count": null,
   "id": "bef449d4-4be3-475d-8d32-4e2981a38b7a",
   "metadata": {},
   "outputs": [],
   "source": [
    "pr5 = pr.rolling(time = 5, center = False).sum()"
   ]
  },
  {
   "cell_type": "code",
   "execution_count": null,
   "id": "611583c6-046c-4413-9d1b-64f4b6091075",
   "metadata": {},
   "outputs": [],
   "source": [
    "maxpr5 = pr5.resample(time = \"AS-DEC\").max()"
   ]
  },
  {
   "cell_type": "code",
   "execution_count": null,
   "id": "07e4dc91-a12b-4c05-9722-a3541a1d4e41",
   "metadata": {},
   "outputs": [],
   "source": [
    "hist = pr5.sel(time = slice(\"18851201\", \"19151201\")).mean(\"time\")\n",
    "ref = pr5.sel(time = slice(\"19901201\", \"20211201\")).mean(\"time\")\n",
    "\n",
    "\n",
    "ds=ref-hist \n",
    "ds = add_grid(ds, \"projection_x_coordinate\", \"projection_y_coordinate\", osgb_crs, latlon_crs)\n",
    "rm = regionmask.mask_3D_geopandas(sf.to_crs(latlon_crs.proj4_init), ds.lon, ds.lat, drop = False, numbers = \"NUMBER\")\n",
    "da=ds.pr\n",
    "\n",
    "# apply the regionmask to the data and average over the x & y dimensions\n",
    "region_da = da.where(rm).mean([\"projection_x_coordinate\", \"projection_y_coordinate\"])"
   ]
  },
  {
   "cell_type": "code",
   "execution_count": null,
   "id": "53d3bc0c-14cd-4dd7-96e0-b757efff39e7",
   "metadata": {},
   "outputs": [],
   "source": [
    "# find nearest neighbour\n",
    "\n",
    "region_nn = xr.concat([nearest_px(*sf.centroid[i].xy, da).expand_dims(region = [sf.NUMBER[i]]).assign_coords(constituency = (\"region\", [sf.FILE_NAME[i]])) for i in range(len(sf))], \"region\")"
   ]
  },
  {
   "cell_type": "code",
   "execution_count": null,
   "id": "2b7258b5-5ed5-41db-b6ae-1bc288d70569",
   "metadata": {},
   "outputs": [],
   "source": [
    "#~~~~~~~~~~~~~~~~~~~~~~~~~~~~~~~~~~\n",
    "# combine regionmask with nearest neighbour where regionmask didn't pick anything up\n",
    "\n",
    "region_all = xr.concat([region_da, region_nn.where(np.isnan(region_da))], \"match\").sum(\"match\")"
   ]
  },
  {
   "cell_type": "code",
   "execution_count": null,
   "id": "bc6abc1a-de9b-49e9-9d28-3c101a8e966c",
   "metadata": {},
   "outputs": [],
   "source": [
    "region_all=region_all.assign_coords(region=('region',sf.CODE))"
   ]
  },
  {
   "cell_type": "code",
   "execution_count": null,
   "id": "df7226a2-3190-43ee-8d96-c561ab4af111",
   "metadata": {},
   "outputs": [],
   "source": [
    "region_all.to_dataframe(name='value').reset_index().to_csv('observations_max5dayprecipitation_1900-2005.csv')"
   ]
  }
 ],
 "metadata": {
  "kernelspec": {
   "display_name": "Python [conda env:xclim]",
   "language": "python",
   "name": "conda-env-xclim-py"
  },
  "language_info": {
   "codemirror_mode": {
    "name": "ipython",
    "version": 3
   },
   "file_extension": ".py",
   "mimetype": "text/x-python",
   "name": "python",
   "nbconvert_exporter": "python",
   "pygments_lexer": "ipython3",
   "version": "3.9.6"
  }
 },
 "nbformat": 4,
 "nbformat_minor": 5
}
