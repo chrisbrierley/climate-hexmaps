{
 "cells": [
  {
   "cell_type": "code",
   "execution_count": 34,
   "id": "a29cb221-7c55-49f8-be39-f119090588ed",
   "metadata": {},
   "outputs": [],
   "source": [
    "import sys; sys.path.append('/data/met/processing/10_methods/')\n",
    "from regridding import *\n",
    "import geopandas as gpd"
   ]
  },
  {
   "cell_type": "code",
   "execution_count": 35,
   "id": "e2b45d32-220e-4699-b87e-b2ce9e823809",
   "metadata": {},
   "outputs": [],
   "source": [
    "#~~~~~~~~~~~~~~~~~~~~~~~~~~~~~~~~~~~~~~~~~~~~~~~~~~~~~~~~~~~~~~~~~~~~~~~~~~~~~~~~~~~~~~~~~~~~~~\n",
    "\n",
    "# define coordinate reference systems\n",
    "osgb_crs = ccrs.TransverseMercator(approx = False, central_longitude = -2, central_latitude = 49, scale_factor = 0.9996012717, false_easting = 400000, false_northing = -100000,\n",
    "                                   globe = ccrs.Globe(datum = 'OSGB36', ellipse = 'airy'))\n",
    "latlon_crs = ccrs.RotatedPole(central_rotated_longitude = 180)"
   ]
  },
  {
   "cell_type": "code",
   "execution_count": 36,
   "id": "8d777cf2-25f6-4ef3-afbb-0ca44ec193fd",
   "metadata": {},
   "outputs": [],
   "source": [
    "#~~~~~~~~~~~~~~~~~~~~~~~~~~~~~~~~~~~~~~~~~~~~~~~~~~~~~~~~~~~~~~~~~~~~~~~~~~~~~~~~~~~~~~~~~~~~~~\n",
    "# method to get the nearest value to (x,y) from the gridded data in da (assumes everything in OSGB projection)\n",
    "def nearest_px(x,y,da):\n",
    "   \n",
    "    # get squared distance from (x,y) to each point\n",
    "    dist2 = (da.projection_y_coordinate - y)**2 + (da.projection_x_coordinate - x)**2\n",
    "   \n",
    "    # exclude any cells where the gridded data is NaN\n",
    "    dist2 = dist2.where(~np.isnan(da))\n",
    "   \n",
    "    # also limit distance to closest two squares (in case there really is no data nearby)\n",
    "    dist2 = dist2.where(dist2 <= 5.76e8)\n",
    "   \n",
    "    # find value in cell containing minimum distance\n",
    "    # if multiple equidistant cells, will average over them\n",
    "    val = da.where(dist2 == dist2.min()).mean([\"projection_x_coordinate\", \"projection_y_coordinate\"])\n",
    "   \n",
    "    return val"
   ]
  },
  {
   "cell_type": "code",
   "execution_count": 37,
   "id": "193dc9b1-dd4a-4d29-864c-1193d0275012",
   "metadata": {},
   "outputs": [],
   "source": [
    "#~~~~~~~~~~~~~~~~~~~~~~~~~~~~~~~~~~~~~~~~~~~~~~~~~~~~~~~~~~~~~~~~~~~~~~~~~~~~~~~~~~~~~~~~~~~~~~\n",
    "# load the shapefile\n",
    "sf = geopandas.read_file(\"/home/georgia/Data/GB/westminster\")\n",
    "\n",
    "# load the raw data\n",
    "fnm = \"/data/met/plot-explorer/data/maxtmax/maxtmax_12km_ens-mean-maps_20491201-20791130_annual.nc\"\n",
    "ds = xr.open_dataset(fnm)\n",
    "ds = add_grid(ds, \"projection_x_coordinate\", \"projection_y_coordinate\", osgb_crs, latlon_crs)\n",
    "da = ds.maxtmax\n",
    "\n",
    "rm = regionmask.mask_3D_geopandas(sf.to_crs(latlon_crs.proj4_init), ds.lon, ds.lat, drop = False, numbers = \"NUMBER\")\n",
    "\n",
    "# apply the regionmask to the data and average over the x & y dimensions\n",
    "region_da = da.where(rm).mean([\"projection_x_coordinate\", \"projection_y_coordinate\"])"
   ]
  },
  {
   "cell_type": "code",
   "execution_count": 38,
   "id": "452c098c-ab9c-4fbd-bb33-4da68565ae7d",
   "metadata": {},
   "outputs": [],
   "source": [
    "\n",
    "# find nearest neighbour\n",
    "\n",
    "region_nn = xr.concat([nearest_px(*sf.centroid[i].xy, da).expand_dims(region = [sf.NUMBER[i]]).assign_coords(constituency = (\"region\", [sf.FILE_NAME[i]])) for i in range(len(sf))], \"region\")\n",
    "\n",
    "#~"
   ]
  },
  {
   "cell_type": "code",
   "execution_count": 39,
   "id": "48db184b-6876-48da-8f35-1b0d53103358",
   "metadata": {},
   "outputs": [],
   "source": [
    "\n",
    "# combine regionmask with nearest neighbour where regionmask didn't pick anything up\n",
    "\n",
    "region_all = xr.concat([region_da, region_nn.where(np.isnan(region_da))], \"match\").sum(\"match\")"
   ]
  },
  {
   "cell_type": "code",
   "execution_count": 40,
   "id": "ac253c3f-8680-4791-84f7-826b02ad343d",
   "metadata": {},
   "outputs": [],
   "source": [
    "region_all=region_all.assign_coords(region=('region',sf.CODE))"
   ]
  },
  {
   "cell_type": "code",
   "execution_count": 41,
   "id": "a00f5e0e-f893-4e72-a994-7744521dde2e",
   "metadata": {},
   "outputs": [],
   "source": [
    "region_all.to_dataframe(name='value').reset_index().to_csv('maxtmax2049-2079.csv')"
   ]
  },
  {
   "cell_type": "code",
   "execution_count": null,
   "id": "bf813697-6c90-4167-b882-ae66f27627d5",
   "metadata": {},
   "outputs": [],
   "source": []
  },
  {
   "cell_type": "code",
   "execution_count": null,
   "id": "856da6f7-e8bc-480d-9826-d224f4713bcd",
   "metadata": {},
   "outputs": [],
   "source": []
  },
  {
   "cell_type": "code",
   "execution_count": null,
   "id": "46796e54-4f54-4e52-a823-d667119c0929",
   "metadata": {},
   "outputs": [],
   "source": []
  },
  {
   "cell_type": "code",
   "execution_count": 42,
   "id": "af16df7a-7ec5-4d8a-81ab-4301a5875b4c",
   "metadata": {},
   "outputs": [],
   "source": [
    "#new variable- precipitation projections \n",
    "\n",
    "\n",
    "\n",
    "import sys; sys.path.append('/data/met/processing/10_methods/')\n",
    "from regridding import *\n",
    "import geopandas as gpd"
   ]
  },
  {
   "cell_type": "code",
   "execution_count": 43,
   "id": "a087b46f-23f9-4c8b-a828-26a583632e02",
   "metadata": {},
   "outputs": [],
   "source": [
    "#~~~~~~~~~~~~~~~~~~~~~~~~~~~~~~~~~~~~~~~~~~~~~~~~~~~~~~~~~~~~~~~~~~~~~~~~~~~~~~~~~~~~~~~~~~~~~~\n",
    "\n",
    "# define coordinate reference systems\n",
    "osgb_crs = ccrs.TransverseMercator(approx = False, central_longitude = -2, central_latitude = 49, scale_factor = 0.9996012717, false_easting = 400000, false_northing = -100000,\n",
    "                                   globe = ccrs.Globe(datum = 'OSGB36', ellipse = 'airy'))\n",
    "latlon_crs = ccrs.RotatedPole(central_rotated_longitude = 180)"
   ]
  },
  {
   "cell_type": "code",
   "execution_count": 44,
   "id": "123171d4-ce2c-4b07-a9c8-d33d1b615f52",
   "metadata": {},
   "outputs": [],
   "source": [
    "#~~~~~~~~~~~~~~~~~~~~~~~~~~~~~~~~~~~~~~~~~~~~~~~~~~~~~~~~~~~~~~~~~~~~~~~~~~~~~~~~~~~~~~~~~~~~~~\n",
    "# method to get the nearest value to (x,y) from the gridded data in da (assumes everything in OSGB projection)\n",
    "def nearest_px(x,y,da):\n",
    "   \n",
    "    # get squared distance from (x,y) to each point\n",
    "    dist2 = (da.projection_y_coordinate - y)**2 + (da.projection_x_coordinate - x)**2\n",
    "   \n",
    "    # exclude any cells where the gridded data is NaN\n",
    "    dist2 = dist2.where(~np.isnan(da))\n",
    "   \n",
    "    # also limit distance to closest two squares (in case there really is no data nearby)\n",
    "    dist2 = dist2.where(dist2 <= 5.76e8)\n",
    "   \n",
    "    # find value in cell containing minimum distance\n",
    "    # if multiple equidistant cells, will average over them\n",
    "    val = da.where(dist2 == dist2.min()).mean([\"projection_x_coordinate\", \"projection_y_coordinate\"])\n",
    "   \n",
    "    return val"
   ]
  },
  {
   "cell_type": "code",
   "execution_count": 45,
   "id": "c4b226ae-e717-4238-9f6c-b04be4372a40",
   "metadata": {},
   "outputs": [],
   "source": [
    "#~~~~~~~~~~~~~~~~~~~~~~~~~~~~~~~~~~~~~~~~~~~~~~~~~~~~~~~~~~~~~~~~~~~~~~~~~~~~~~~~~~~~~~~~~~~~~~\n",
    "# load the shapefile\n",
    "sf = geopandas.read_file(\"/home/georgia/Data/GB/westminster\")\n",
    "\n",
    "# load the raw data\n",
    "fnm = \"/data/met/plot-explorer/data/pr/pr_12km_ens-mean-maps_20491201-20791130_annual.nc\"\n",
    "ds = xr.open_dataset(fnm)\n",
    "ds = add_grid(ds, \"projection_x_coordinate\", \"projection_y_coordinate\", osgb_crs, latlon_crs)\n",
    "da = ds.pr\n",
    "\n",
    "rm = regionmask.mask_3D_geopandas(sf.to_crs(latlon_crs.proj4_init), ds.lon, ds.lat, drop = False, numbers = \"NUMBER\")\n",
    "\n",
    "# apply the regionmask to the data and average over the x & y dimensions\n",
    "region_da = da.where(rm).mean([\"projection_x_coordinate\", \"projection_y_coordinate\"])"
   ]
  },
  {
   "cell_type": "code",
   "execution_count": 46,
   "id": "afa2264b-7eef-4a2e-b5a4-c602202d63c9",
   "metadata": {},
   "outputs": [],
   "source": [
    "#~~~~~~~~~~~~~~~~~~~~~~~~~~~~~~~~~~\n",
    "# find nearest neighbour\n",
    "\n",
    "region_nn = xr.concat([nearest_px(*sf.centroid[i].xy, da).expand_dims(region = [sf.NUMBER[i]]).assign_coords(constituency = (\"region\", [sf.FILE_NAME[i]])) for i in range(len(sf))], \"region\")"
   ]
  },
  {
   "cell_type": "code",
   "execution_count": 47,
   "id": "7514ba41-2f45-497f-adbb-8e6a37d10c2a",
   "metadata": {},
   "outputs": [],
   "source": [
    "#~~~~~~~~~~~~~~~~~~~~~~~~~~~~~~~~~~\n",
    "# combine regionmask with nearest neighbour where regionmask didn't pick anything up\n",
    "\n",
    "region_all = xr.concat([region_da, region_nn.where(np.isnan(region_da))], \"match\").sum(\"match\")"
   ]
  },
  {
   "cell_type": "code",
   "execution_count": 48,
   "id": "c2e94b07-13a1-4d5b-9ca1-cf552d8b834c",
   "metadata": {},
   "outputs": [],
   "source": [
    "region_all=region_all.assign_coords(region=('region',sf.CODE))"
   ]
  },
  {
   "cell_type": "code",
   "execution_count": 49,
   "id": "5c847076-dd5c-4305-9fb3-41062dca6875",
   "metadata": {},
   "outputs": [],
   "source": [
    "region_all.to_dataframe(name='value').reset_index().to_csv('pr_projection_2049-2079.csv')"
   ]
  },
  {
   "cell_type": "code",
   "execution_count": null,
   "id": "db74b035-4367-4a4a-abb5-3cedf56e9a00",
   "metadata": {},
   "outputs": [],
   "source": []
  },
  {
   "cell_type": "code",
   "execution_count": null,
   "id": "7f0bcb72-2abb-4be6-8601-7ae48f184ff0",
   "metadata": {},
   "outputs": [],
   "source": []
  },
  {
   "cell_type": "code",
   "execution_count": null,
   "id": "8bd7a827-dc0a-4310-bab7-91f9292f178e",
   "metadata": {},
   "outputs": [],
   "source": []
  },
  {
   "cell_type": "code",
   "execution_count": 50,
   "id": "228f8a44-7f89-48cd-9e0d-5312cd8cc9fe",
   "metadata": {},
   "outputs": [],
   "source": [
    "#new data mean daily temperature \n",
    "\n",
    "\n",
    "import sys; sys.path.append('/data/met/processing/10_methods/')\n",
    "from regridding import *\n",
    "import geopandas as gpd"
   ]
  },
  {
   "cell_type": "code",
   "execution_count": 51,
   "id": "c694a9f7-2895-4275-b2cd-38c8c384b1d4",
   "metadata": {},
   "outputs": [],
   "source": [
    "#~~~~~~~~~~~~~~~~~~~~~~~~~~~~~~~~~~~~~~~~~~~~~~~~~~~~~~~~~~~~~~~~~~~~~~~~~~~~~~~~~~~~~~~~~~~~~~\n",
    "\n",
    "# define coordinate reference systems\n",
    "osgb_crs = ccrs.TransverseMercator(approx = False, central_longitude = -2, central_latitude = 49, scale_factor = 0.9996012717, false_easting = 400000, false_northing = -100000,\n",
    "                                   globe = ccrs.Globe(datum = 'OSGB36', ellipse = 'airy'))\n",
    "latlon_crs = ccrs.RotatedPole(central_rotated_longitude = 180)"
   ]
  },
  {
   "cell_type": "code",
   "execution_count": 52,
   "id": "12d18f3e-a035-4529-97ff-76ba1edd5c96",
   "metadata": {},
   "outputs": [],
   "source": [
    "#~~~~~~~~~~~~~~~~~~~~~~~~~~~~~~~~~~~~~~~~~~~~~~~~~~~~~~~~~~~~~~~~~~~~~~~~~~~~~~~~~~~~~~~~~~~~~~\n",
    "# method to get the nearest value to (x,y) from the gridded data in da (assumes everything in OSGB projection)\n",
    "def nearest_px(x,y,da):\n",
    "   \n",
    "    # get squared distance from (x,y) to each point\n",
    "    dist2 = (da.projection_y_coordinate - y)**2 + (da.projection_x_coordinate - x)**2\n",
    "   \n",
    "    # exclude any cells where the gridded data is NaN\n",
    "    dist2 = dist2.where(~np.isnan(da))\n",
    "   \n",
    "    # also limit distance to closest two squares (in case there really is no data nearby)\n",
    "    dist2 = dist2.where(dist2 <= 5.76e8)\n",
    "   \n",
    "    # find value in cell containing minimum distance\n",
    "    # if multiple equidistant cells, will average over them\n",
    "    val = da.where(dist2 == dist2.min()).mean([\"projection_x_coordinate\", \"projection_y_coordinate\"])\n",
    "   \n",
    "    return val"
   ]
  },
  {
   "cell_type": "code",
   "execution_count": 53,
   "id": "5e1bde89-3a85-48c8-ad4e-b3158fc68b94",
   "metadata": {},
   "outputs": [],
   "source": [
    "#~~~~~~~~~~~~~~~~~~~~~~~~~~~~~~~~~~~~~~~~~~~~~~~~~~~~~~~~~~~~~~~~~~~~~~~~~~~~~~~~~~~~~~~~~~~~~~\n",
    "# load the shapefile\n",
    "sf = geopandas.read_file(\"/home/georgia/Data/GB/westminster\")\n",
    "\n",
    "# load the raw data\n",
    "fnm = \"/data/met/plot-explorer/data/tas/tas_12km_ens-mean-maps_20491201-20791130_annual.nc\"\n",
    "ds = xr.open_dataset(fnm)\n",
    "ds = add_grid(ds, \"projection_x_coordinate\", \"projection_y_coordinate\", osgb_crs, latlon_crs)\n",
    "da = ds.tas\n",
    "\n",
    "rm = regionmask.mask_3D_geopandas(sf.to_crs(latlon_crs.proj4_init), ds.lon, ds.lat, drop = False, numbers = \"NUMBER\")\n",
    "\n",
    "# apply the regionmask to the data and average over the x & y dimensions\n",
    "region_da = da.where(rm).mean([\"projection_x_coordinate\", \"projection_y_coordinate\"])"
   ]
  },
  {
   "cell_type": "code",
   "execution_count": 54,
   "id": "a16200b6-872a-43dc-81f9-054bba2f8953",
   "metadata": {},
   "outputs": [],
   "source": [
    "#~~~~~~~~~~~~~~~~~~~~~~~~~~~~~~~~~~\n",
    "# find nearest neighbour\n",
    "\n",
    "region_nn = xr.concat([nearest_px(*sf.centroid[i].xy, da).expand_dims(region = [sf.NUMBER[i]]).assign_coords(constituency = (\"region\", [sf.FILE_NAME[i]])) for i in range(len(sf))], \"region\")"
   ]
  },
  {
   "cell_type": "code",
   "execution_count": 55,
   "id": "558e963e-77da-4e48-b6c9-bb2227314d48",
   "metadata": {},
   "outputs": [],
   "source": [
    "#~~~~~~~~~~~~~~~~~~~~~~~~~~~~~~~~~~\n",
    "# combine regionmask with nearest neighbour where regionmask didn't pick anything up\n",
    "\n",
    "region_all = xr.concat([region_da, region_nn.where(np.isnan(region_da))], \"match\").sum(\"match\")"
   ]
  },
  {
   "cell_type": "code",
   "execution_count": 56,
   "id": "a4df298d-b055-4088-b0d0-c9bb5f25d1cf",
   "metadata": {},
   "outputs": [],
   "source": [
    "region_all=region_all.assign_coords(region=('region',sf.CODE))"
   ]
  },
  {
   "cell_type": "code",
   "execution_count": 57,
   "id": "f6cf0421-1531-4e48-a638-281ee5cbb43a",
   "metadata": {},
   "outputs": [],
   "source": [
    "region_all.to_dataframe(name='value').reset_index().to_csv('tas_projection_2049-2079.csv')"
   ]
  },
  {
   "cell_type": "code",
   "execution_count": null,
   "id": "3b0cafb7-69af-47f1-b014-4d8b850d2fa7",
   "metadata": {},
   "outputs": [],
   "source": []
  },
  {
   "cell_type": "code",
   "execution_count": 58,
   "id": "dd7a88b4-6d5c-47e1-bc5f-eab9b7870439",
   "metadata": {},
   "outputs": [],
   "source": [
    "#new variable: number of dangerously hot days \n",
    "\n",
    "\n",
    "import sys; sys.path.append('/data/met/processing/10_methods/')\n",
    "from regridding import *\n",
    "import geopandas as gpd"
   ]
  },
  {
   "cell_type": "code",
   "execution_count": 59,
   "id": "d2b362f9-efa7-4e8f-99db-36fb8cfa4d5f",
   "metadata": {},
   "outputs": [],
   "source": [
    "#~~~~~~~~~~~~~~~~~~~~~~~~~~~~~~~~~~~~~~~~~~~~~~~~~~~~~~~~~~~~~~~~~~~~~~~~~~~~~~~~~~~~~~~~~~~~~~\n",
    "\n",
    "# define coordinate reference systems\n",
    "osgb_crs = ccrs.TransverseMercator(approx = False, central_longitude = -2, central_latitude = 49, scale_factor = 0.9996012717, false_easting = 400000, false_northing = -100000,\n",
    "                                   globe = ccrs.Globe(datum = 'OSGB36', ellipse = 'airy'))\n",
    "latlon_crs = ccrs.RotatedPole(central_rotated_longitude = 180)"
   ]
  },
  {
   "cell_type": "code",
   "execution_count": 60,
   "id": "1a7784cb-52de-470e-8363-79f718e7051d",
   "metadata": {},
   "outputs": [],
   "source": [
    "#~~~~~~~~~~~~~~~~~~~~~~~~~~~~~~~~~~~~~~~~~~~~~~~~~~~~~~~~~~~~~~~~~~~~~~~~~~~~~~~~~~~~~~~~~~~~~~\n",
    "# method to get the nearest value to (x,y) from the gridded data in da (assumes everything in OSGB projection)\n",
    "def nearest_px(x,y,da):\n",
    "   \n",
    "    # get squared distance from (x,y) to each point\n",
    "    dist2 = (da.projection_y_coordinate - y)**2 + (da.projection_x_coordinate - x)**2\n",
    "   \n",
    "    # exclude any cells where the gridded data is NaN\n",
    "    dist2 = dist2.where(~np.isnan(da))\n",
    "   \n",
    "    # also limit distance to closest two squares (in case there really is no data nearby)\n",
    "    dist2 = dist2.where(dist2 <= 5.76e8)\n",
    "   \n",
    "    # find value in cell containing minimum distance\n",
    "    # if multiple equidistant cells, will average over them\n",
    "    val = da.where(dist2 == dist2.min()).mean([\"projection_x_coordinate\", \"projection_y_coordinate\"])\n",
    "   \n",
    "    return val"
   ]
  },
  {
   "cell_type": "code",
   "execution_count": 61,
   "id": "5161b005-3f67-49ad-b3df-9bf891e2ce6b",
   "metadata": {},
   "outputs": [],
   "source": [
    "#~~~~~~~~~~~~~~~~~~~~~~~~~~~~~~~~~~~~~~~~~~~~~~~~~~~~~~~~~~~~~~~~~~~~~~~~~~~~~~~~~~~~~~~~~~~~~~\n",
    "# load the shapefile\n",
    "sf = geopandas.read_file(\"/home/georgia/Data/GB/westminster\")\n",
    "\n",
    "# load the raw data\n",
    "fnm = \"/data/met/plot-explorer/data/ndhi/ndhi_12km_ens-mean-maps_20491201-20791130_annual.nc\"\n",
    "ds = xr.open_dataset(fnm)\n",
    "ds = add_grid(ds, \"projection_x_coordinate\", \"projection_y_coordinate\", osgb_crs, latlon_crs)\n",
    "da = ds.ndhi\n",
    "\n",
    "rm = regionmask.mask_3D_geopandas(sf.to_crs(latlon_crs.proj4_init), ds.lon, ds.lat, drop = False, numbers = \"NUMBER\")\n",
    "\n",
    "# apply the regionmask to the data and average over the x & y dimensions\n",
    "region_da = da.where(rm).mean([\"projection_x_coordinate\", \"projection_y_coordinate\"])"
   ]
  },
  {
   "cell_type": "code",
   "execution_count": 62,
   "id": "c1a4aabd-8f5a-44a3-8f9a-678e30b5ec8b",
   "metadata": {},
   "outputs": [],
   "source": [
    "#~~~~~~~~~~~~~~~~~~~~~~~~~~~~~~~~~~\n",
    "# find nearest neighbour\n",
    "\n",
    "region_nn = xr.concat([nearest_px(*sf.centroid[i].xy, da).expand_dims(region = [sf.NUMBER[i]]).assign_coords(constituency = (\"region\", [sf.FILE_NAME[i]])) for i in range(len(sf))], \"region\")"
   ]
  },
  {
   "cell_type": "code",
   "execution_count": 63,
   "id": "7c03d8ba-ba1e-42eb-8df2-9c7da06ff91d",
   "metadata": {},
   "outputs": [],
   "source": [
    "#~~~~~~~~~~~~~~~~~~~~~~~~~~~~~~~~~~\n",
    "# combine regionmask with nearest neighbour where regionmask didn't pick anything up\n",
    "\n",
    "region_all = xr.concat([region_da, region_nn.where(np.isnan(region_da))], \"match\").sum(\"match\")"
   ]
  },
  {
   "cell_type": "code",
   "execution_count": 64,
   "id": "0f5745de-4fcf-4187-8479-3240948b16ab",
   "metadata": {},
   "outputs": [],
   "source": [
    "region_all=region_all.assign_coords(region=('region',sf.CODE))"
   ]
  },
  {
   "cell_type": "code",
   "execution_count": 65,
   "id": "77df500e-f152-4966-8bec-2ad7b916fe94",
   "metadata": {},
   "outputs": [],
   "source": [
    "region_all.to_dataframe(name='value').reset_index().to_csv('ndhi_projection_2049-2079.csv')"
   ]
  },
  {
   "cell_type": "code",
   "execution_count": null,
   "id": "66b03878-3622-4dad-a823-24adbe610c60",
   "metadata": {},
   "outputs": [],
   "source": []
  },
  {
   "cell_type": "code",
   "execution_count": null,
   "id": "8d4a0aea-cc93-4742-bc4d-e07527a2ff96",
   "metadata": {},
   "outputs": [],
   "source": []
  },
  {
   "cell_type": "code",
   "execution_count": 70,
   "id": "8868685a-759f-4097-b94c-b267c8815130",
   "metadata": {},
   "outputs": [],
   "source": [
    "#new variable -- drought duration based on 6 month evapotranspiration index\n",
    "\n",
    "import sys; sys.path.append('/data/met/processing/10_methods/')\n",
    "from regridding import *\n",
    "import geopandas as gpd"
   ]
  },
  {
   "cell_type": "code",
   "execution_count": 71,
   "id": "9799020c-7d7a-42ab-92ec-be2caf64b2db",
   "metadata": {},
   "outputs": [],
   "source": [
    "#~~~~~~~~~~~~~~~~~~~~~~~~~~~~~~~~~~~~~~~~~~~~~~~~~~~~~~~~~~~~~~~~~~~~~~~~~~~~~~~~~~~~~~~~~~~~~~\n",
    "\n",
    "# define coordinate reference systems\n",
    "osgb_crs = ccrs.TransverseMercator(approx = False, central_longitude = -2, central_latitude = 49, scale_factor = 0.9996012717, false_easting = 400000, false_northing = -100000,\n",
    "                                   globe = ccrs.Globe(datum = 'OSGB36', ellipse = 'airy'))\n",
    "latlon_crs = ccrs.RotatedPole(central_rotated_longitude = 180)"
   ]
  },
  {
   "cell_type": "code",
   "execution_count": 72,
   "id": "70e2f639-b468-45c7-a8f0-5025b15ca3b3",
   "metadata": {},
   "outputs": [],
   "source": [
    "#~~~~~~~~~~~~~~~~~~~~~~~~~~~~~~~~~~~~~~~~~~~~~~~~~~~~~~~~~~~~~~~~~~~~~~~~~~~~~~~~~~~~~~~~~~~~~~\n",
    "# method to get the nearest value to (x,y) from the gridded data in da (assumes everything in OSGB projection)\n",
    "def nearest_px(x,y,da):\n",
    "   \n",
    "    # get squared distance from (x,y) to each point\n",
    "    dist2 = (da.projection_y_coordinate - y)**2 + (da.projection_x_coordinate - x)**2\n",
    "   \n",
    "    # exclude any cells where the gridded data is NaN\n",
    "    dist2 = dist2.where(~np.isnan(da))\n",
    "   \n",
    "    # also limit distance to closest two squares (in case there really is no data nearby)\n",
    "    dist2 = dist2.where(dist2 <= 5.76e8)\n",
    "   \n",
    "    # find value in cell containing minimum distance\n",
    "    # if multiple equidistant cells, will average over them\n",
    "    val = da.where(dist2 == dist2.min()).mean([\"projection_x_coordinate\", \"projection_y_coordinate\"])\n",
    "   \n",
    "    return val"
   ]
  },
  {
   "cell_type": "code",
   "execution_count": 73,
   "id": "af609329-c7c5-489c-9b89-30fb72ae8463",
   "metadata": {},
   "outputs": [],
   "source": [
    "#~~~~~~~~~~~~~~~~~~~~~~~~~~~~~~~~~~~~~~~~~~~~~~~~~~~~~~~~~~~~~~~~~~~~~~~~~~~~~~~~~~~~~~~~~~~~~~\n",
    "# load the shapefile\n",
    "sf = geopandas.read_file(\"/home/georgia/Data/GB/westminster\")\n",
    "\n",
    "# load the raw data\n",
    "fnm = \"/data/met/plot-explorer/data/spei6dd/spei6dd_12km_ens-mean-maps_20491201-20791130_annual.nc\"\n",
    "ds = xr.open_dataset(fnm)\n",
    "ds = add_grid(ds, \"projection_x_coordinate\", \"projection_y_coordinate\", osgb_crs, latlon_crs)\n",
    "da = ds.spei6dd\n",
    "\n",
    "rm = regionmask.mask_3D_geopandas(sf.to_crs(latlon_crs.proj4_init), ds.lon, ds.lat, drop = False, numbers = \"NUMBER\")\n",
    "\n",
    "# apply the regionmask to the data and average over the x & y dimensions\n",
    "region_da = da.where(rm).mean([\"projection_x_coordinate\", \"projection_y_coordinate\"])"
   ]
  },
  {
   "cell_type": "code",
   "execution_count": 74,
   "id": "28a96054-a39a-4d39-ae5d-b0a72cb07529",
   "metadata": {},
   "outputs": [],
   "source": [
    "#~~~~~~~~~~~~~~~~~~~~~~~~~~~~~~~~~~\n",
    "# find nearest neighbour\n",
    "\n",
    "region_nn = xr.concat([nearest_px(*sf.centroid[i].xy, da).expand_dims(region = [sf.NUMBER[i]]).assign_coords(constituency = (\"region\", [sf.FILE_NAME[i]])) for i in range(len(sf))], \"region\")"
   ]
  },
  {
   "cell_type": "code",
   "execution_count": 75,
   "id": "2cde9ce2-5525-4acb-9c72-6206c5c04702",
   "metadata": {},
   "outputs": [],
   "source": [
    "#~~~~~~~~~~~~~~~~~~~~~~~~~~~~~~~~~~\n",
    "# combine regionmask with nearest neighbour where regionmask didn't pick anything up\n",
    "\n",
    "region_all = xr.concat([region_da, region_nn.where(np.isnan(region_da))], \"match\").sum(\"match\")"
   ]
  },
  {
   "cell_type": "code",
   "execution_count": 76,
   "id": "01b44d4a-10fd-45d5-87f3-b3beea151c4a",
   "metadata": {},
   "outputs": [],
   "source": [
    "region_all=region_all.assign_coords(region=('region',sf.CODE))"
   ]
  },
  {
   "cell_type": "code",
   "execution_count": 77,
   "id": "7dbc6382-d07a-4621-8b9f-8a800699848e",
   "metadata": {},
   "outputs": [],
   "source": [
    "region_all.to_dataframe(name='value').reset_index().to_csv('drought_duration_projection_2049-2079.csv')"
   ]
  },
  {
   "cell_type": "code",
   "execution_count": null,
   "id": "a373b3a3-e686-4c63-ac5d-fa45f675060b",
   "metadata": {},
   "outputs": [],
   "source": []
  },
  {
   "cell_type": "code",
   "execution_count": null,
   "id": "7a8551fa-abcc-4f28-8e8d-05853add8af9",
   "metadata": {},
   "outputs": [],
   "source": []
  },
  {
   "cell_type": "code",
   "execution_count": null,
   "id": "a36ae7d3-4afc-4f66-bfcb-9b5dd3b60819",
   "metadata": {},
   "outputs": [],
   "source": []
  },
  {
   "cell_type": "code",
   "execution_count": 1,
   "id": "b350379c-0900-45b9-895f-2b16c752a38c",
   "metadata": {},
   "outputs": [],
   "source": [
    "#new variable--- max five day precipitation \n",
    "import sys; sys.path.append('/data/met/processing/10_methods/')\n",
    "from regridding import *\n",
    "import geopandas as gpd"
   ]
  },
  {
   "cell_type": "code",
   "execution_count": 2,
   "id": "616936cc-419b-43e3-b4d0-efd4138bff7b",
   "metadata": {},
   "outputs": [],
   "source": [
    "#~~~~~~~~~~~~~~~~~~~~~~~~~~~~~~~~~~~~~~~~~~~~~~~~~~~~~~~~~~~~~~~~~~~~~~~~~~~~~~~~~~~~~~~~~~~~~~\n",
    "\n",
    "# define coordinate reference systems\n",
    "osgb_crs = ccrs.TransverseMercator(approx = False, central_longitude = -2, central_latitude = 49, scale_factor = 0.9996012717, false_easting = 400000, false_northing = -100000,\n",
    "                                   globe = ccrs.Globe(datum = 'OSGB36', ellipse = 'airy'))\n",
    "latlon_crs = ccrs.RotatedPole(central_rotated_longitude = 180)"
   ]
  },
  {
   "cell_type": "code",
   "execution_count": 3,
   "id": "363f9b1b-c97e-49ce-86bd-a187284fe88e",
   "metadata": {},
   "outputs": [],
   "source": [
    "#~~~~~~~~~~~~~~~~~~~~~~~~~~~~~~~~~~~~~~~~~~~~~~~~~~~~~~~~~~~~~~~~~~~~~~~~~~~~~~~~~~~~~~~~~~~~~~\n",
    "# method to get the nearest value to (x,y) from the gridded data in da (assumes everything in OSGB projection)\n",
    "def nearest_px(x,y,da):\n",
    "   \n",
    "    # get squared distance from (x,y) to each point\n",
    "    dist2 = (da.projection_y_coordinate - y)**2 + (da.projection_x_coordinate - x)**2\n",
    "   \n",
    "    # exclude any cells where the gridded data is NaN\n",
    "    dist2 = dist2.where(~np.isnan(da))\n",
    "   \n",
    "    # also limit distance to closest two squares (in case there really is no data nearby)\n",
    "    dist2 = dist2.where(dist2 <= 5.76e8)\n",
    "   \n",
    "    # find value in cell containing minimum distance\n",
    "    # if multiple equidistant cells, will average over them\n",
    "    val = da.where(dist2 == dist2.min()).mean([\"projection_x_coordinate\", \"projection_y_coordinate\"])\n",
    "   \n",
    "    return val"
   ]
  },
  {
   "cell_type": "code",
   "execution_count": 4,
   "id": "b27e5f59-cf59-4604-9fa5-95dfaec2d844",
   "metadata": {},
   "outputs": [],
   "source": [
    "#~~~~~~~~~~~~~~~~~~~~~~~~~~~~~~~~~~~~~~~~~~~~~~~~~~~~~~~~~~~~~~~~~~~~~~~~~~~~~~~~~~~~~~~~~~~~~~\n",
    "# load the shapefile\n",
    "sf = geopandas.read_file(\"/home/georgia/Data/GB/westminster\")\n",
    "\n",
    "# load the raw data\n",
    "fnm = \"/data/met/plot-explorer/data/rx5day/rx5day_12km_ens-mean-maps_20491201-20791130_annual.nc\"\n",
    "ds = xr.open_dataset(fnm)\n",
    "ds = add_grid(ds, \"projection_x_coordinate\", \"projection_y_coordinate\", osgb_crs, latlon_crs)\n",
    "da = ds.rx5day\n",
    "\n",
    "rm = regionmask.mask_3D_geopandas(sf.to_crs(latlon_crs.proj4_init), ds.lon, ds.lat, drop = False, numbers = \"NUMBER\")\n",
    "\n",
    "# apply the regionmask to the data and average over the x & y dimensions\n",
    "region_da = da.where(rm).mean([\"projection_x_coordinate\", \"projection_y_coordinate\"])"
   ]
  },
  {
   "cell_type": "code",
   "execution_count": 5,
   "id": "df5a4d6c-44bb-4f62-813e-5a84a7bb5037",
   "metadata": {},
   "outputs": [],
   "source": [
    "#~~~~~~~~~~~~~~~~~~~~~~~~~~~~~~~~~~\n",
    "# find nearest neighbour\n",
    "\n",
    "region_nn = xr.concat([nearest_px(*sf.centroid[i].xy, da).expand_dims(region = [sf.NUMBER[i]]).assign_coords(constituency = (\"region\", [sf.FILE_NAME[i]])) for i in range(len(sf))], \"region\")"
   ]
  },
  {
   "cell_type": "code",
   "execution_count": 6,
   "id": "87b3c631-30bb-4d55-9dc5-993fde2d0c85",
   "metadata": {},
   "outputs": [],
   "source": [
    "#~~~~~~~~~~~~~~~~~~~~~~~~~~~~~~~~~~\n",
    "# combine regionmask with nearest neighbour where regionmask didn't pick anything up\n",
    "\n",
    "region_all = xr.concat([region_da, region_nn.where(np.isnan(region_da))], \"match\").sum(\"match\")"
   ]
  },
  {
   "cell_type": "code",
   "execution_count": 7,
   "id": "71d6e700-6538-4eb8-8d32-98000eadc728",
   "metadata": {},
   "outputs": [],
   "source": [
    "region_all=region_all.assign_coords(region=('region',sf.CODE))"
   ]
  },
  {
   "cell_type": "code",
   "execution_count": 8,
   "id": "d6a5a507-3f1c-4b95-b36a-e3cb477683a7",
   "metadata": {},
   "outputs": [],
   "source": [
    "region_all.to_dataframe(name='value').reset_index().to_csv('max_5_day_precipitation_projection_2049-2079.csv')"
   ]
  }
 ],
 "metadata": {
  "kernelspec": {
   "display_name": "Python [conda env:xclim]",
   "language": "python",
   "name": "conda-env-xclim-py"
  },
  "language_info": {
   "codemirror_mode": {
    "name": "ipython",
    "version": 3
   },
   "file_extension": ".py",
   "mimetype": "text/x-python",
   "name": "python",
   "nbconvert_exporter": "python",
   "pygments_lexer": "ipython3",
   "version": "3.9.6"
  }
 },
 "nbformat": 4,
 "nbformat_minor": 5
}
